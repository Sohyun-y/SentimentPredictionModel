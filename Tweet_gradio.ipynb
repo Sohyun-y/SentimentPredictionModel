{
  "nbformat": 4,
  "nbformat_minor": 0,
  "metadata": {
    "colab": {
      "provenance": [],
      "gpuType": "T4"
    },
    "kernelspec": {
      "name": "python3",
      "display_name": "Python 3"
    },
    "language_info": {
      "name": "python"
    },
    "accelerator": "GPU"
  },
  "cells": [
    {
      "cell_type": "code",
      "source": [
        "import warnings\n",
        "warnings.filterwarnings('ignore')"
      ],
      "metadata": {
        "id": "hMn8gf6-GY8Y"
      },
      "execution_count": null,
      "outputs": []
    },
    {
      "cell_type": "code",
      "source": [
        "!pip install gradio==3.16.2"
      ],
      "metadata": {
        "id": "AVoLDkXjvDLo"
      },
      "execution_count": null,
      "outputs": []
    },
    {
      "cell_type": "code",
      "source": [
        "!pip install transformers"
      ],
      "metadata": {
        "id": "C374y3tdHFlX"
      },
      "execution_count": null,
      "outputs": []
    },
    {
      "cell_type": "code",
      "execution_count": null,
      "metadata": {
        "id": "-SRCGyYkF0w7"
      },
      "outputs": [],
      "source": [
        "import gradio as gr\n",
        "from keras.models import load_model\n",
        "import pickle\n",
        "import torch\n",
        "import numpy as np\n",
        "import pandas as pd"
      ]
    },
    {
      "cell_type": "code",
      "source": [
        "from utils import test_sentences"
      ],
      "metadata": {
        "id": "2SqWG0OWHvos"
      },
      "execution_count": null,
      "outputs": []
    },
    {
      "cell_type": "code",
      "source": [
        "model = torch.load('bert_classification(0.87).pt')"
      ],
      "metadata": {
        "id": "0Op8XSUbGjFv"
      },
      "execution_count": null,
      "outputs": []
    },
    {
      "cell_type": "code",
      "source": [
        "# Gradio 인터페이스에서 사용할 함수 정의\n",
        "def predict_sentiment(text):\n",
        "    logit = test_sentences([text], model)\n",
        "    sent = np.argmax(logit)\n",
        "\n",
        "    classes = {0: \"Neutral\", 1:\"Positive\", 2:\"Negative\"}\n",
        "    sentiment = classes[sent]\n",
        "\n",
        "    return sentiment"
      ],
      "metadata": {
        "id": "FuErYD-2GCde"
      },
      "execution_count": null,
      "outputs": []
    },
    {
      "cell_type": "code",
      "source": [
        "custom_css = \"\"\"\n",
        "body {\n",
        "    background-color: #f2f2f2;  /* 배경색 변경 */\n",
        "}\n",
        "\n",
        "/* 입력 상자에 대한 스타일 */\n",
        ".gr-textbox input[type=\"text\"] {\n",
        "    background-color: #08A0E9;  /* 입력 상자 배경색 변경 */\n",
        "    border: 1px solid #08A0E9;  /* 입력 상자 테두리 변경 */\n",
        "    color: white;  /* 입력 상자 텍스트 색상 변경 */\n",
        "}\n",
        "\n",
        "/* 버튼에 대한 스타일 */\n",
        ".gr-button {\n",
        "    background-color: #08A0E9;  /* 버튼 배경색 변경 */\n",
        "    color: white;  /* 버튼 텍스트 색상 변경 */\n",
        "}\n",
        "\n",
        "/* 출력 상자에 대한 스타일 */\n",
        ".gr-output .output_text {\n",
        "    background-color: #08A0E9;  /* 출력 상자 배경색 변경 */\n",
        "    border: 1px solid #08A0E9;  /* 출력 상자 테두리 변경 */\n",
        "    color: white;  /* 출력 상자 텍스트 색상 변경 */\n",
        "}\n",
        "\"\"\"\n"
      ],
      "metadata": {
        "id": "k_WNm8YYR8_I"
      },
      "execution_count": null,
      "outputs": []
    },
    {
      "cell_type": "code",
      "source": [
        "tweet = gr.Interface(\n",
        "    fn=predict_sentiment,\n",
        "    inputs=gr.inputs.Textbox(placeholder=\"Enter your tweet here...\"),\n",
        "    outputs=gr.outputs.Textbox(label=\"Sentiment Prediction\"),\n",
        "    title='WHAT IS THE EMOTION OF \"TWEET\"?',\n",
        "    theme=\"light\",  # Gradio의 기본 테마 설정\n",
        "    css=custom_css  # 사용자 정의 CSS 추가\n",
        ")\n",
        "tweet.launch(share=True)"
      ],
      "metadata": {
        "id": "V71zu5FTIa5h"
      },
      "execution_count": null,
      "outputs": []
    }
  ]
}